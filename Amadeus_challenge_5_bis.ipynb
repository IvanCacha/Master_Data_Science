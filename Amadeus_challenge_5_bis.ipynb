{
 "nbformat": 4,
 "nbformat_minor": 2,
 "metadata": {
  "language_info": {
   "name": "python",
   "codemirror_mode": {
    "name": "ipython",
    "version": 3
   }
  },
  "orig_nbformat": 2,
  "file_extension": ".py",
  "mimetype": "text/x-python",
  "name": "python",
  "npconvert_exporter": "python",
  "pygments_lexer": "ipython3",
  "version": 3
 },
 "cells": [
  {
   "cell_type": "code",
   "execution_count": 1,
   "metadata": {},
   "outputs": [],
   "source": [
    "import pandas as pd"
   ]
  },
  {
   "cell_type": "code",
   "execution_count": 3,
   "metadata": {},
   "outputs": [],
   "source": [
    "df = pd.read_json(\"http://127.0.0.1:5000/ret_number/100\")"
   ]
  },
  {
   "cell_type": "code",
   "execution_count": 5,
   "metadata": {},
   "outputs": [
    {
     "data": {
      "text/html": "<div>\n<style scoped>\n    .dataframe tbody tr th:only-of-type {\n        vertical-align: middle;\n    }\n\n    .dataframe tbody tr th {\n        vertical-align: top;\n    }\n\n    .dataframe thead th {\n        text-align: right;\n    }\n</style>\n<table border=\"1\" class=\"dataframe\">\n  <thead>\n    <tr style=\"text-align: right;\">\n      <th></th>\n      <th>Unnamed: 0</th>\n      <th>arr_port</th>\n      <th>pax</th>\n      <th>AirportName</th>\n    </tr>\n  </thead>\n  <tbody>\n    <tr>\n      <th>0</th>\n      <td>0</td>\n      <td>LHR</td>\n      <td>88809</td>\n      <td>London Heathrow Airport</td>\n    </tr>\n    <tr>\n      <th>1</th>\n      <td>1</td>\n      <td>MCO</td>\n      <td>70930</td>\n      <td>Orlando International Airport</td>\n    </tr>\n    <tr>\n      <th>2</th>\n      <td>2</td>\n      <td>LAX</td>\n      <td>70530</td>\n      <td>Los Angeles International Airport</td>\n    </tr>\n    <tr>\n      <th>3</th>\n      <td>3</td>\n      <td>LAS</td>\n      <td>69630</td>\n      <td>McCarran International Airport</td>\n    </tr>\n    <tr>\n      <th>4</th>\n      <td>4</td>\n      <td>JFK</td>\n      <td>66270</td>\n      <td>John F. Kennedy International Airport</td>\n    </tr>\n  </tbody>\n</table>\n</div>",
      "text/plain": "   Unnamed: 0 arr_port    pax                            AirportName\n0           0      LHR  88809                London Heathrow Airport\n1           1      MCO  70930          Orlando International Airport\n2           2      LAX  70530      Los Angeles International Airport\n3           3      LAS  69630         McCarran International Airport\n4           4      JFK  66270  John F. Kennedy International Airport"
     },
     "execution_count": 5,
     "metadata": {},
     "output_type": "execute_result"
    }
   ],
   "source": [
    "df.head()"
   ]
  }
 ]
}