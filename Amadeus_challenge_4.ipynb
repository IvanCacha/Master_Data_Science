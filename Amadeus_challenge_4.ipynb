{
 "nbformat": 4,
 "nbformat_minor": 2,
 "metadata": {
  "language_info": {
   "name": "python",
   "codemirror_mode": {
    "name": "ipython",
    "version": 3
   },
   "version": "3.7.6-final"
  },
  "orig_nbformat": 2,
  "file_extension": ".py",
  "mimetype": "text/x-python",
  "name": "python",
  "npconvert_exporter": "python",
  "pygments_lexer": "ipython3",
  "version": 3,
  "kernelspec": {
   "name": "python37664bitivancvirtualenvbdf5d0ffb4774beabd481ee92fbfb678",
   "display_name": "Python 3.7.6 64-bit ('ivanc': virtualenv)"
  }
 },
 "cells": [
  {
   "cell_type": "code",
   "execution_count": 1,
   "metadata": {},
   "outputs": [],
   "source": [
    "import pandas as pd\n",
    "pd.set_option('display.max_columns',None)\n",
    "directory='C:\\\\Users\\\\ivanc\\\\OneDrive\\\\Documents\\\\Master Data Science\\\\Amadeus Challenge\\\\'\n",
    "s_file=directory + 'searches.csv.bz2'\n",
    "b_file=directory + 'bookings.csv.bz2'\n"
   ]
  },
  {
   "cell_type": "code",
   "execution_count": 3,
   "metadata": {},
   "outputs": [
    {
     "name": "stdout",
     "output_type": "stream",
     "text": "0 359003\n1 359003\n2 359003\n3 359003\n4 359003\n5 359003\n6 359003\n7 359003\n8 359003\n9 359003\n10 359004\n"
    }
   ],
   "source": [
    "s = pd.read_csv(s_file, sep='^', chunksize=2000000, low_memory=False, dtype=str )\n",
    "all_chunks = pd.DataFrame()\n",
    "for i, chunk in enumerate(s):\n",
    "    all_chunks = all_chunks.append(chunk)\n",
    "    all_chunks.drop_duplicates(inplace=True)\n",
    "    print (i, len(all_chunks))\n",
    "\n",
    "all_chunks.to_csv(directory + 'searches_no_dup.csv', sep='^', index=False)"
   ]
  },
  {
   "cell_type": "code",
   "execution_count": 5,
   "metadata": {},
   "outputs": [
    {
     "name": "stdout",
     "output_type": "stream",
     "text": "0 1000000\n1 1000000\n2 1000003\n3 1000003\n4 1000003\n5 1000003\n"
    }
   ],
   "source": [
    "b = pd.read_csv(b_file, sep='^', chunksize=2000000, low_memory=False, dtype=str )\n",
    "all_chunks = pd.DataFrame()\n",
    "for i, chunk in enumerate(b):\n",
    "    all_chunks = all_chunks.append(chunk)\n",
    "    all_chunks.drop_duplicates(inplace=True)\n",
    "    print (i, len(all_chunks))\n",
    "\n",
    "all_chunks.to_csv(directory + 'Bookings_no_dup.csv', sep='^', index=False)"
   ]
  },
  {
   "cell_type": "code",
   "execution_count": 10,
   "metadata": {},
   "outputs": [],
   "source": [
    "s_nodup = directory + 'searches_no_dup.csv'\n",
    "b_nodup = directory + 'Bookings_no_dup.csv'"
   ]
  },
  {
   "cell_type": "code",
   "execution_count": 52,
   "metadata": {},
   "outputs": [],
   "source": [
    "b = pd.read_csv(b_nodup, sep='^', usecols=['dep_port', 'arr_port', 'cre_date           ' ])\n",
    "b.rename(columns=lambda x: x.strip(), inplace=True)\n",
    "b.dep_port=b.dep_port.str.strip()\n",
    "b.arr_port=b.arr_port.str.strip()\n",
    "b.drop_duplicates(inplace=True)\n",
    "b.cre_date=b.cre_date.str[:10]\n",
    "b['Booked']=1"
   ]
  },
  {
   "cell_type": "code",
   "execution_count": 53,
   "metadata": {},
   "outputs": [
    {
     "data": {
      "text/html": "<div>\n<style scoped>\n    .dataframe tbody tr th:only-of-type {\n        vertical-align: middle;\n    }\n\n    .dataframe tbody tr th {\n        vertical-align: top;\n    }\n\n    .dataframe thead th {\n        text-align: right;\n    }\n</style>\n<table border=\"1\" class=\"dataframe\">\n  <thead>\n    <tr style=\"text-align: right;\">\n      <th></th>\n      <th>cre_date</th>\n      <th>dep_port</th>\n      <th>arr_port</th>\n      <th>Booked</th>\n    </tr>\n  </thead>\n  <tbody>\n    <tr>\n      <th>0</th>\n      <td>2013-02-22</td>\n      <td>ZRH</td>\n      <td>LHR</td>\n      <td>1</td>\n    </tr>\n    <tr>\n      <th>1</th>\n      <td>2013-03-26</td>\n      <td>SAL</td>\n      <td>CLT</td>\n      <td>1</td>\n    </tr>\n    <tr>\n      <th>3</th>\n      <td>2013-03-26</td>\n      <td>AKL</td>\n      <td>SVO</td>\n      <td>1</td>\n    </tr>\n    <tr>\n      <th>5</th>\n      <td>2013-03-20</td>\n      <td>DEN</td>\n      <td>LGA</td>\n      <td>1</td>\n    </tr>\n    <tr>\n      <th>7</th>\n      <td>2013-03-25</td>\n      <td>NRT</td>\n      <td>SIN</td>\n      <td>1</td>\n    </tr>\n    <tr>\n      <th>...</th>\n      <td>...</td>\n      <td>...</td>\n      <td>...</td>\n      <td>...</td>\n    </tr>\n    <tr>\n      <th>999989</th>\n      <td>2013-05-14</td>\n      <td>POM</td>\n      <td>MEL</td>\n      <td>1</td>\n    </tr>\n    <tr>\n      <th>999991</th>\n      <td>2013-05-28</td>\n      <td>MEM</td>\n      <td>LAS</td>\n      <td>1</td>\n    </tr>\n    <tr>\n      <th>1000000</th>\n      <td>2013-03-26</td>\n      <td>AKL</td>\n      <td>SVO</td>\n      <td>1</td>\n    </tr>\n    <tr>\n      <th>1000001</th>\n      <td>60</td>\n      <td>JP</td>\n      <td>SG</td>\n      <td>1</td>\n    </tr>\n    <tr>\n      <th>1000002</th>\n      <td>2013-03-25</td>\n      <td>TYO</td>\n      <td>SIN</td>\n      <td>1</td>\n    </tr>\n  </tbody>\n</table>\n<p>334877 rows × 4 columns</p>\n</div>",
      "text/plain": "           cre_date dep_port arr_port  Booked\n0        2013-02-22      ZRH      LHR       1\n1        2013-03-26      SAL      CLT       1\n3        2013-03-26      AKL      SVO       1\n5        2013-03-20      DEN      LGA       1\n7        2013-03-25      NRT      SIN       1\n...             ...      ...      ...     ...\n999989   2013-05-14      POM      MEL       1\n999991   2013-05-28      MEM      LAS       1\n1000000  2013-03-26      AKL      SVO       1\n1000001          60       JP       SG       1\n1000002  2013-03-25      TYO      SIN       1\n\n[334877 rows x 4 columns]"
     },
     "execution_count": 53,
     "metadata": {},
     "output_type": "execute_result"
    }
   ],
   "source": [
    "b"
   ]
  },
  {
   "cell_type": "code",
   "execution_count": 50,
   "metadata": {},
   "outputs": [],
   "source": [
    "s = pd.read_csv(s_nodup, sep='^', low_memory=False)\n",
    "s['Date_time'] = s['Date'] +' '+ s['Time']"
   ]
  },
  {
   "cell_type": "code",
   "execution_count": 45,
   "metadata": {},
   "outputs": [
    {
     "data": {
      "text/plain": "Index(['cre_date', 'dep_port', 'arr_port', 'Booked'], dtype='object')"
     },
     "execution_count": 45,
     "metadata": {},
     "output_type": "execute_result"
    }
   ],
   "source": [
    "b.columns"
   ]
  },
  {
   "cell_type": "code",
   "execution_count": 63,
   "metadata": {},
   "outputs": [],
   "source": [
    "s_b= s.merge(b, how='left', left_on=['Date','Origin','Destination'],right_on=['cre_date', 'dep_port', 'arr_port'])\n",
    "s_b.drop(['cre_date', 'dep_port', 'arr_port'],axis='columns', inplace=True)"
   ]
  },
  {
   "cell_type": "code",
   "execution_count": 64,
   "metadata": {},
   "outputs": [
    {
     "data": {
      "text/plain": "(359004, 359004)"
     },
     "execution_count": 64,
     "metadata": {},
     "output_type": "execute_result"
    }
   ],
   "source": [
    "len(s), len(s_b)"
   ]
  },
  {
   "cell_type": "code",
   "execution_count": 65,
   "metadata": {},
   "outputs": [
    {
     "data": {
      "text/html": "<div>\n<style scoped>\n    .dataframe tbody tr th:only-of-type {\n        vertical-align: middle;\n    }\n\n    .dataframe tbody tr th {\n        vertical-align: top;\n    }\n\n    .dataframe thead th {\n        text-align: right;\n    }\n</style>\n<table border=\"1\" class=\"dataframe\">\n  <thead>\n    <tr style=\"text-align: right;\">\n      <th></th>\n      <th>Date</th>\n      <th>Time</th>\n      <th>TxnCode</th>\n      <th>OfficeID</th>\n      <th>Country</th>\n      <th>Origin</th>\n      <th>Destination</th>\n      <th>RoundTrip</th>\n      <th>NbSegments</th>\n      <th>Seg1Departure</th>\n      <th>Seg1Arrival</th>\n      <th>Seg1Date</th>\n      <th>Seg1Carrier</th>\n      <th>Seg1BookingCode</th>\n      <th>Seg2Departure</th>\n      <th>Seg2Arrival</th>\n      <th>Seg2Date</th>\n      <th>Seg2Carrier</th>\n      <th>Seg2BookingCode</th>\n      <th>Seg3Departure</th>\n      <th>Seg3Arrival</th>\n      <th>Seg3Date</th>\n      <th>Seg3Carrier</th>\n      <th>Seg3BookingCode</th>\n      <th>Seg4Departure</th>\n      <th>Seg4Arrival</th>\n      <th>Seg4Date</th>\n      <th>Seg4Carrier</th>\n      <th>Seg4BookingCode</th>\n      <th>Seg5Departure</th>\n      <th>Seg5Arrival</th>\n      <th>Seg5Date</th>\n      <th>Seg5Carrier</th>\n      <th>Seg5BookingCode</th>\n      <th>Seg6Departure</th>\n      <th>Seg6Arrival</th>\n      <th>Seg6Date</th>\n      <th>Seg6Carrier</th>\n      <th>Seg6BookingCode</th>\n      <th>From</th>\n      <th>IsPublishedForNeg</th>\n      <th>IsFromInternet</th>\n      <th>IsFromVista</th>\n      <th>TerminalID</th>\n      <th>InternetOffice</th>\n      <th>Date_time</th>\n      <th>Booked</th>\n    </tr>\n  </thead>\n  <tbody>\n    <tr>\n      <th>27</th>\n      <td>2013-01-01</td>\n      <td>18:33:28</td>\n      <td>CCP</td>\n      <td>3565e31495ecfd46fa018339d20382b1</td>\n      <td>SA</td>\n      <td>RUH</td>\n      <td>JED</td>\n      <td>0.0</td>\n      <td>1.0</td>\n      <td>RUH</td>\n      <td>JED</td>\n      <td>2013-01-04</td>\n      <td>KP</td>\n      <td>NaN</td>\n      <td>NaN</td>\n      <td>NaN</td>\n      <td>NaN</td>\n      <td>NaN</td>\n      <td>NaN</td>\n      <td>NaN</td>\n      <td>NaN</td>\n      <td>NaN</td>\n      <td>NaN</td>\n      <td>NaN</td>\n      <td>NaN</td>\n      <td>NaN</td>\n      <td>NaN</td>\n      <td>NaN</td>\n      <td>NaN</td>\n      <td>NaN</td>\n      <td>NaN</td>\n      <td>NaN</td>\n      <td>NaN</td>\n      <td>NaN</td>\n      <td>NaN</td>\n      <td>NaN</td>\n      <td>NaN</td>\n      <td>NaN</td>\n      <td>NaN</td>\n      <td>1ASIWS</td>\n      <td>0</td>\n      <td>0</td>\n      <td>0</td>\n      <td>d41d8cd98f00b204e9800998ecf8427e</td>\n      <td>JED</td>\n      <td>2013-01-01 18:33:28</td>\n      <td>1.0</td>\n    </tr>\n    <tr>\n      <th>40</th>\n      <td>2013-01-01</td>\n      <td>06:36:57</td>\n      <td>FFP</td>\n      <td>86f167b84e77346849f9439ae87c02a6</td>\n      <td>SA</td>\n      <td>DMM</td>\n      <td>MNL</td>\n      <td>1.0</td>\n      <td>2.0</td>\n      <td>DMM</td>\n      <td>MNL</td>\n      <td>2013-06-01</td>\n      <td>OJ</td>\n      <td>NaN</td>\n      <td>MNL</td>\n      <td>DMM</td>\n      <td>2013-06-30</td>\n      <td>OJ</td>\n      <td>NaN</td>\n      <td>NaN</td>\n      <td>NaN</td>\n      <td>NaN</td>\n      <td>NaN</td>\n      <td>NaN</td>\n      <td>NaN</td>\n      <td>NaN</td>\n      <td>NaN</td>\n      <td>NaN</td>\n      <td>NaN</td>\n      <td>NaN</td>\n      <td>NaN</td>\n      <td>NaN</td>\n      <td>NaN</td>\n      <td>NaN</td>\n      <td>NaN</td>\n      <td>NaN</td>\n      <td>NaN</td>\n      <td>NaN</td>\n      <td>NaN</td>\n      <td>1ASIWS</td>\n      <td>0</td>\n      <td>0</td>\n      <td>0</td>\n      <td>d41d8cd98f00b204e9800998ecf8427e</td>\n      <td>JED</td>\n      <td>2013-01-01 06:36:57</td>\n      <td>1.0</td>\n    </tr>\n    <tr>\n      <th>59</th>\n      <td>2013-01-01</td>\n      <td>07:00:38</td>\n      <td>FQD</td>\n      <td>e8741eaf2fa2f71f931475d18fa72096</td>\n      <td>US</td>\n      <td>ATL</td>\n      <td>MIA</td>\n      <td>0.0</td>\n      <td>1.0</td>\n      <td>ATL</td>\n      <td>MIA</td>\n      <td>2013-01-10</td>\n      <td>NV</td>\n      <td>NaN</td>\n      <td>NaN</td>\n      <td>NaN</td>\n      <td>NaN</td>\n      <td>NaN</td>\n      <td>NaN</td>\n      <td>NaN</td>\n      <td>NaN</td>\n      <td>NaN</td>\n      <td>NaN</td>\n      <td>NaN</td>\n      <td>NaN</td>\n      <td>NaN</td>\n      <td>NaN</td>\n      <td>NaN</td>\n      <td>NaN</td>\n      <td>NaN</td>\n      <td>NaN</td>\n      <td>NaN</td>\n      <td>NaN</td>\n      <td>NaN</td>\n      <td>NaN</td>\n      <td>NaN</td>\n      <td>NaN</td>\n      <td>NaN</td>\n      <td>NaN</td>\n      <td>1ASI</td>\n      <td>0</td>\n      <td>0</td>\n      <td>0</td>\n      <td>d41d8cd98f00b204e9800998ecf8427e</td>\n      <td>SEA</td>\n      <td>2013-01-01 07:00:38</td>\n      <td>1.0</td>\n    </tr>\n    <tr>\n      <th>134</th>\n      <td>2013-01-01</td>\n      <td>23:30:44</td>\n      <td>MPT</td>\n      <td>5215502d9524c3183f3839b0d9a5e4f9</td>\n      <td>AU</td>\n      <td>MEL</td>\n      <td>SYD</td>\n      <td>0.0</td>\n      <td>1.0</td>\n      <td>MEL</td>\n      <td>SYD</td>\n      <td>2013-01-31</td>\n      <td>NaN</td>\n      <td>NaN</td>\n      <td>NaN</td>\n      <td>NaN</td>\n      <td>NaN</td>\n      <td>NaN</td>\n      <td>NaN</td>\n      <td>NaN</td>\n      <td>NaN</td>\n      <td>NaN</td>\n      <td>NaN</td>\n      <td>NaN</td>\n      <td>NaN</td>\n      <td>NaN</td>\n      <td>NaN</td>\n      <td>NaN</td>\n      <td>NaN</td>\n      <td>NaN</td>\n      <td>NaN</td>\n      <td>NaN</td>\n      <td>NaN</td>\n      <td>NaN</td>\n      <td>NaN</td>\n      <td>NaN</td>\n      <td>NaN</td>\n      <td>NaN</td>\n      <td>NaN</td>\n      <td>1ASIWS</td>\n      <td>0</td>\n      <td>0</td>\n      <td>0</td>\n      <td>d41d8cd98f00b204e9800998ecf8427e</td>\n      <td>SYD</td>\n      <td>2013-01-01 23:30:44</td>\n      <td>1.0</td>\n    </tr>\n    <tr>\n      <th>172</th>\n      <td>2013-01-01</td>\n      <td>18:34:27</td>\n      <td>MPT</td>\n      <td>fd4afff0035bec8f8e305d38804c33f6</td>\n      <td>IN</td>\n      <td>BOM</td>\n      <td>JED</td>\n      <td>1.0</td>\n      <td>2.0</td>\n      <td>BOM</td>\n      <td>JED</td>\n      <td>2013-01-26</td>\n      <td>NaN</td>\n      <td>NaN</td>\n      <td>JED</td>\n      <td>BOM</td>\n      <td>2013-01-29</td>\n      <td>NaN</td>\n      <td>NaN</td>\n      <td>NaN</td>\n      <td>NaN</td>\n      <td>NaN</td>\n      <td>NaN</td>\n      <td>NaN</td>\n      <td>NaN</td>\n      <td>NaN</td>\n      <td>NaN</td>\n      <td>NaN</td>\n      <td>NaN</td>\n      <td>NaN</td>\n      <td>NaN</td>\n      <td>NaN</td>\n      <td>NaN</td>\n      <td>NaN</td>\n      <td>NaN</td>\n      <td>NaN</td>\n      <td>NaN</td>\n      <td>NaN</td>\n      <td>NaN</td>\n      <td>1ASI</td>\n      <td>0</td>\n      <td>0</td>\n      <td>0</td>\n      <td>d41d8cd98f00b204e9800998ecf8427e</td>\n      <td>DEL</td>\n      <td>2013-01-01 18:34:27</td>\n      <td>1.0</td>\n    </tr>\n  </tbody>\n</table>\n</div>",
      "text/plain": "           Date      Time TxnCode                          OfficeID Country  \\\n27   2013-01-01  18:33:28     CCP  3565e31495ecfd46fa018339d20382b1      SA   \n40   2013-01-01  06:36:57     FFP  86f167b84e77346849f9439ae87c02a6      SA   \n59   2013-01-01  07:00:38     FQD  e8741eaf2fa2f71f931475d18fa72096      US   \n134  2013-01-01  23:30:44     MPT  5215502d9524c3183f3839b0d9a5e4f9      AU   \n172  2013-01-01  18:34:27     MPT  fd4afff0035bec8f8e305d38804c33f6      IN   \n\n    Origin Destination  RoundTrip  NbSegments Seg1Departure Seg1Arrival  \\\n27     RUH         JED        0.0         1.0           RUH         JED   \n40     DMM         MNL        1.0         2.0           DMM         MNL   \n59     ATL         MIA        0.0         1.0           ATL         MIA   \n134    MEL         SYD        0.0         1.0           MEL         SYD   \n172    BOM         JED        1.0         2.0           BOM         JED   \n\n       Seg1Date Seg1Carrier Seg1BookingCode Seg2Departure Seg2Arrival  \\\n27   2013-01-04          KP             NaN           NaN         NaN   \n40   2013-06-01          OJ             NaN           MNL         DMM   \n59   2013-01-10          NV             NaN           NaN         NaN   \n134  2013-01-31         NaN             NaN           NaN         NaN   \n172  2013-01-26         NaN             NaN           JED         BOM   \n\n       Seg2Date Seg2Carrier Seg2BookingCode Seg3Departure Seg3Arrival  \\\n27          NaN         NaN             NaN           NaN         NaN   \n40   2013-06-30          OJ             NaN           NaN         NaN   \n59          NaN         NaN             NaN           NaN         NaN   \n134         NaN         NaN             NaN           NaN         NaN   \n172  2013-01-29         NaN             NaN           NaN         NaN   \n\n    Seg3Date Seg3Carrier Seg3BookingCode Seg4Departure Seg4Arrival Seg4Date  \\\n27       NaN         NaN             NaN           NaN         NaN      NaN   \n40       NaN         NaN             NaN           NaN         NaN      NaN   \n59       NaN         NaN             NaN           NaN         NaN      NaN   \n134      NaN         NaN             NaN           NaN         NaN      NaN   \n172      NaN         NaN             NaN           NaN         NaN      NaN   \n\n    Seg4Carrier Seg4BookingCode Seg5Departure Seg5Arrival Seg5Date  \\\n27          NaN             NaN           NaN         NaN      NaN   \n40          NaN             NaN           NaN         NaN      NaN   \n59          NaN             NaN           NaN         NaN      NaN   \n134         NaN             NaN           NaN         NaN      NaN   \n172         NaN             NaN           NaN         NaN      NaN   \n\n    Seg5Carrier Seg5BookingCode Seg6Departure Seg6Arrival Seg6Date  \\\n27          NaN             NaN           NaN         NaN      NaN   \n40          NaN             NaN           NaN         NaN      NaN   \n59          NaN             NaN           NaN         NaN      NaN   \n134         NaN             NaN           NaN         NaN      NaN   \n172         NaN             NaN           NaN         NaN      NaN   \n\n    Seg6Carrier Seg6BookingCode    From IsPublishedForNeg IsFromInternet  \\\n27          NaN             NaN  1ASIWS                 0              0   \n40          NaN             NaN  1ASIWS                 0              0   \n59          NaN             NaN    1ASI                 0              0   \n134         NaN             NaN  1ASIWS                 0              0   \n172         NaN             NaN    1ASI                 0              0   \n\n    IsFromVista                        TerminalID InternetOffice  \\\n27            0  d41d8cd98f00b204e9800998ecf8427e            JED   \n40            0  d41d8cd98f00b204e9800998ecf8427e            JED   \n59            0  d41d8cd98f00b204e9800998ecf8427e            SEA   \n134           0  d41d8cd98f00b204e9800998ecf8427e            SYD   \n172           0  d41d8cd98f00b204e9800998ecf8427e            DEL   \n\n               Date_time  Booked  \n27   2013-01-01 18:33:28     1.0  \n40   2013-01-01 06:36:57     1.0  \n59   2013-01-01 07:00:38     1.0  \n134  2013-01-01 23:30:44     1.0  \n172  2013-01-01 18:34:27     1.0  "
     },
     "execution_count": 65,
     "metadata": {},
     "output_type": "execute_result"
    }
   ],
   "source": [
    "s_b[s_b['Booked']==1].head()"
   ]
  },
  {
   "cell_type": "code",
   "execution_count": 66,
   "metadata": {},
   "outputs": [],
   "source": [
    "s_b.Booked.fillna(0, inplace=True)"
   ]
  },
  {
   "cell_type": "code",
   "execution_count": 69,
   "metadata": {},
   "outputs": [],
   "source": [
    "s_b.to_csv(directory + 'Searches_with_bookings.csv',sep='^', index=False)"
   ]
  },
  {
   "cell_type": "code",
   "execution_count": null,
   "metadata": {},
   "outputs": [],
   "source": []
  }
 ]
}