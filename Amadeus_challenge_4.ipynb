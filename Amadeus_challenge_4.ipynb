{
 "nbformat": 4,
 "nbformat_minor": 2,
 "metadata": {
  "language_info": {
   "name": "python",
   "codemirror_mode": {
    "name": "ipython",
    "version": 3
   },
   "version": "3.7.6-final"
  },
  "orig_nbformat": 2,
  "file_extension": ".py",
  "mimetype": "text/x-python",
  "name": "python",
  "npconvert_exporter": "python",
  "pygments_lexer": "ipython3",
  "version": 3,
  "kernelspec": {
   "name": "python37664bitivancvirtualenvbdf5d0ffb4774beabd481ee92fbfb678",
   "display_name": "Python 3.7.6 64-bit ('ivanc': virtualenv)"
  }
 },
 "cells": [
  {
   "cell_type": "code",
   "execution_count": 1,
   "metadata": {},
   "outputs": [],
   "source": [
    "import pandas as pd\n",
    "pd.set_option('display.max_columns',None)\n",
    "directory='C:\\\\Users\\\\ivanc\\\\OneDrive\\\\Documents\\\\Master Data Science\\\\Amadeus Challenge\\\\'\n",
    "s_file=directory + 'searches.csv.bz2'\n",
    "b_file=directory + 'bookings.csv.bz2'\n"
   ]
  },
  {
   "cell_type": "code",
   "execution_count": 3,
   "metadata": {},
   "outputs": [
    {
     "name": "stdout",
     "output_type": "stream",
     "text": "0 359003\n1 359003\n2 359003\n3 359003\n4 359003\n5 359003\n6 359003\n7 359003\n8 359003\n9 359003\n10 359004\n"
    }
   ],
   "source": [
    "s = pd.read_csv(s_file, sep='^', chunksize=2000000, low_memory=False, dtype=str )\n",
    "all_chunks = pd.DataFrame()\n",
    "for i, chunk in enumerate(s):\n",
    "    all_chunks = all_chunks.append(chunk)\n",
    "    all_chunks.drop_duplicates(inplace=True)\n",
    "    print (i, len(all_chunks))\n",
    "\n",
    "all_chunks.to_csv(directory + 'searches_no_dup.csv', sep='^', index=False)"
   ]
  },
  {
   "cell_type": "code",
   "execution_count": 5,
   "metadata": {},
   "outputs": [
    {
     "name": "stdout",
     "output_type": "stream",
     "text": "0 1000000\n1 1000000\n2 1000003\n3 1000003\n4 1000003\n5 1000003\n"
    }
   ],
   "source": [
    "b = pd.read_csv(b_file, sep='^', chunksize=2000000, low_memory=False, dtype=str )\n",
    "all_chunks = pd.DataFrame()\n",
    "for i, chunk in enumerate(b):\n",
    "    all_chunks = all_chunks.append(chunk)\n",
    "    all_chunks.drop_duplicates(inplace=True)\n",
    "    print (i, len(all_chunks))\n",
    "\n",
    "all_chunks.to_csv(directory + 'Bookings_no_dup.csv', sep='^', index=False)"
   ]
  },
  {
   "cell_type": "code",
   "execution_count": 6,
   "metadata": {},
   "outputs": [],
   "source": [
    "s_nodup = directory + 'searches.csv.bz2'\n",
    "b_nodup = directory + 'bookings.csv.bz2'"
   ]
  },
  {
   "cell_type": "code",
   "execution_count": null,
   "metadata": {},
   "outputs": [],
   "source": [
    "s = pd.read_csv(s_file, sep='^', chunksize=2000000, low_memory=False, dtype=str )"
   ]
  }
 ]
}