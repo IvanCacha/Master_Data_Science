{
 "nbformat": 4,
 "nbformat_minor": 2,
 "metadata": {
  "language_info": {
   "name": "python",
   "codemirror_mode": {
    "name": "ipython",
    "version": 3
   },
   "version": "3.7.6-final"
  },
  "orig_nbformat": 2,
  "file_extension": ".py",
  "mimetype": "text/x-python",
  "name": "python",
  "npconvert_exporter": "python",
  "pygments_lexer": "ipython3",
  "version": 3,
  "kernelspec": {
   "name": "python37664bitivancvirtualenvbdf5d0ffb4774beabd481ee92fbfb678",
   "display_name": "Python 3.7.6 64-bit ('ivanc': virtualenv)"
  }
 },
 "cells": [
  {
   "cell_type": "code",
   "execution_count": 5,
   "metadata": {},
   "outputs": [],
   "source": [
    "import pandas as pd\n",
    "pd.set_option('display.max_columns',None)"
   ]
  },
  {
   "cell_type": "code",
   "execution_count": 6,
   "metadata": {},
   "outputs": [],
   "source": [
    "directory='C:\\\\Users\\\\ivanc\\\\OneDrive\\\\Documents\\\\Master Data Science\\\\Amadeus Challenge\\\\'\n",
    "file=directory + 'Sample_Searches.csv.bz2'\n",
    "s = pd.read_csv(file, sep='^', nrows=1000)"
   ]
  },
  {
   "cell_type": "code",
   "execution_count": 8,
   "metadata": {},
   "outputs": [
    {
     "data": {
      "text/html": "<div>\n<style scoped>\n    .dataframe tbody tr th:only-of-type {\n        vertical-align: middle;\n    }\n\n    .dataframe tbody tr th {\n        vertical-align: top;\n    }\n\n    .dataframe thead th {\n        text-align: right;\n    }\n</style>\n<table border=\"1\" class=\"dataframe\">\n  <thead>\n    <tr style=\"text-align: right;\">\n      <th></th>\n      <th>Date</th>\n      <th>Time</th>\n      <th>TxnCode</th>\n      <th>OfficeID</th>\n      <th>Country</th>\n      <th>Origin</th>\n      <th>Destination</th>\n      <th>RoundTrip</th>\n      <th>NbSegments</th>\n      <th>Seg1Departure</th>\n      <th>Seg1Arrival</th>\n      <th>Seg1Date</th>\n      <th>Seg1Carrier</th>\n      <th>Seg1BookingCode</th>\n      <th>Seg2Departure</th>\n      <th>Seg2Arrival</th>\n      <th>Seg2Date</th>\n      <th>Seg2Carrier</th>\n      <th>Seg2BookingCode</th>\n      <th>Seg3Departure</th>\n      <th>Seg3Arrival</th>\n      <th>Seg3Date</th>\n      <th>Seg3Carrier</th>\n      <th>Seg3BookingCode</th>\n      <th>Seg4Departure</th>\n      <th>Seg4Arrival</th>\n      <th>Seg4Date</th>\n      <th>Seg4Carrier</th>\n      <th>Seg4BookingCode</th>\n      <th>Seg5Departure</th>\n      <th>Seg5Arrival</th>\n      <th>Seg5Date</th>\n      <th>Seg5Carrier</th>\n      <th>Seg5BookingCode</th>\n      <th>Seg6Departure</th>\n      <th>Seg6Arrival</th>\n      <th>Seg6Date</th>\n      <th>Seg6Carrier</th>\n      <th>Seg6BookingCode</th>\n      <th>From</th>\n      <th>IsPublishedForNeg</th>\n      <th>IsFromInternet</th>\n      <th>IsFromVista</th>\n      <th>TerminalID</th>\n      <th>InternetOffice</th>\n    </tr>\n  </thead>\n  <tbody>\n    <tr>\n      <th>0</th>\n      <td>2013-01-01</td>\n      <td>20:25:57</td>\n      <td>MPT</td>\n      <td>624d8c3ac0b3a7ca03e3c167e0f48327</td>\n      <td>DE</td>\n      <td>TXL</td>\n      <td>AUH</td>\n      <td>1</td>\n      <td>2</td>\n      <td>TXL</td>\n      <td>AUH</td>\n      <td>2013-01-26</td>\n      <td>D2</td>\n      <td>NaN</td>\n      <td>AUH</td>\n      <td>TXL</td>\n      <td>2013-02-02</td>\n      <td>D2</td>\n      <td>NaN</td>\n      <td>NaN</td>\n      <td>NaN</td>\n      <td>NaN</td>\n      <td>NaN</td>\n      <td>NaN</td>\n      <td>NaN</td>\n      <td>NaN</td>\n      <td>NaN</td>\n      <td>NaN</td>\n      <td>NaN</td>\n      <td>NaN</td>\n      <td>NaN</td>\n      <td>NaN</td>\n      <td>NaN</td>\n      <td>NaN</td>\n      <td>NaN</td>\n      <td>NaN</td>\n      <td>NaN</td>\n      <td>NaN</td>\n      <td>NaN</td>\n      <td>1ASIWS</td>\n      <td>0</td>\n      <td>0</td>\n      <td>0</td>\n      <td>d41d8cd98f00b204e9800998ecf8427e</td>\n      <td>FRA</td>\n    </tr>\n    <tr>\n      <th>1</th>\n      <td>2013-01-01</td>\n      <td>10:15:33</td>\n      <td>MPT</td>\n      <td>b0af35b31588dc4ab06d5cf2986e8e02</td>\n      <td>MD</td>\n      <td>ATH</td>\n      <td>MIL</td>\n      <td>0</td>\n      <td>1</td>\n      <td>ATH</td>\n      <td>MIL</td>\n      <td>2013-01-04</td>\n      <td>NaN</td>\n      <td>NaN</td>\n      <td>NaN</td>\n      <td>NaN</td>\n      <td>NaN</td>\n      <td>NaN</td>\n      <td>NaN</td>\n      <td>NaN</td>\n      <td>NaN</td>\n      <td>NaN</td>\n      <td>NaN</td>\n      <td>NaN</td>\n      <td>NaN</td>\n      <td>NaN</td>\n      <td>NaN</td>\n      <td>NaN</td>\n      <td>NaN</td>\n      <td>NaN</td>\n      <td>NaN</td>\n      <td>NaN</td>\n      <td>NaN</td>\n      <td>NaN</td>\n      <td>NaN</td>\n      <td>NaN</td>\n      <td>NaN</td>\n      <td>NaN</td>\n      <td>NaN</td>\n      <td>1ASIWS</td>\n      <td>0</td>\n      <td>0</td>\n      <td>0</td>\n      <td>d41d8cd98f00b204e9800998ecf8427e</td>\n      <td>KIV</td>\n    </tr>\n    <tr>\n      <th>2</th>\n      <td>2013-01-01</td>\n      <td>18:04:49</td>\n      <td>MPT</td>\n      <td>3561a60621de06ab1badc8ca55699ef3</td>\n      <td>US</td>\n      <td>ICT</td>\n      <td>SFO</td>\n      <td>1</td>\n      <td>2</td>\n      <td>ICT</td>\n      <td>SFO</td>\n      <td>2013-08-02</td>\n      <td>NaN</td>\n      <td>NaN</td>\n      <td>SFO</td>\n      <td>ICT</td>\n      <td>2013-08-09</td>\n      <td>NaN</td>\n      <td>NaN</td>\n      <td>NaN</td>\n      <td>NaN</td>\n      <td>NaN</td>\n      <td>NaN</td>\n      <td>NaN</td>\n      <td>NaN</td>\n      <td>NaN</td>\n      <td>NaN</td>\n      <td>NaN</td>\n      <td>NaN</td>\n      <td>NaN</td>\n      <td>NaN</td>\n      <td>NaN</td>\n      <td>NaN</td>\n      <td>NaN</td>\n      <td>NaN</td>\n      <td>NaN</td>\n      <td>NaN</td>\n      <td>NaN</td>\n      <td>NaN</td>\n      <td>1ASIWS</td>\n      <td>0</td>\n      <td>0</td>\n      <td>0</td>\n      <td>d41d8cd98f00b204e9800998ecf8427e</td>\n      <td>NYC</td>\n    </tr>\n    <tr>\n      <th>3</th>\n      <td>2013-01-01</td>\n      <td>17:42:40</td>\n      <td>FXP</td>\n      <td>1864e5e8013d9414150e91d26b6a558b</td>\n      <td>SE</td>\n      <td>RNB</td>\n      <td>ARN</td>\n      <td>0</td>\n      <td>1</td>\n      <td>RNB</td>\n      <td>ARN</td>\n      <td>2013-01-02</td>\n      <td>DU</td>\n      <td>W</td>\n      <td>NaN</td>\n      <td>NaN</td>\n      <td>NaN</td>\n      <td>NaN</td>\n      <td>NaN</td>\n      <td>NaN</td>\n      <td>NaN</td>\n      <td>NaN</td>\n      <td>NaN</td>\n      <td>NaN</td>\n      <td>NaN</td>\n      <td>NaN</td>\n      <td>NaN</td>\n      <td>NaN</td>\n      <td>NaN</td>\n      <td>NaN</td>\n      <td>NaN</td>\n      <td>NaN</td>\n      <td>NaN</td>\n      <td>NaN</td>\n      <td>NaN</td>\n      <td>NaN</td>\n      <td>NaN</td>\n      <td>NaN</td>\n      <td>NaN</td>\n      <td>1ASI</td>\n      <td>0</td>\n      <td>0</td>\n      <td>0</td>\n      <td>d41d8cd98f00b204e9800998ecf8427e</td>\n      <td>STO</td>\n    </tr>\n    <tr>\n      <th>4</th>\n      <td>2013-01-01</td>\n      <td>17:48:29</td>\n      <td>MPT</td>\n      <td>1ec336348f44207d2e0027dc3a68c118</td>\n      <td>NO</td>\n      <td>OSL</td>\n      <td>MAD</td>\n      <td>1</td>\n      <td>2</td>\n      <td>OSL</td>\n      <td>MAD</td>\n      <td>2013-03-22</td>\n      <td>NaN</td>\n      <td>NaN</td>\n      <td>MAD</td>\n      <td>OSL</td>\n      <td>2013-03-31</td>\n      <td>NaN</td>\n      <td>NaN</td>\n      <td>NaN</td>\n      <td>NaN</td>\n      <td>NaN</td>\n      <td>NaN</td>\n      <td>NaN</td>\n      <td>NaN</td>\n      <td>NaN</td>\n      <td>NaN</td>\n      <td>NaN</td>\n      <td>NaN</td>\n      <td>NaN</td>\n      <td>NaN</td>\n      <td>NaN</td>\n      <td>NaN</td>\n      <td>NaN</td>\n      <td>NaN</td>\n      <td>NaN</td>\n      <td>NaN</td>\n      <td>NaN</td>\n      <td>NaN</td>\n      <td>1ASIWS</td>\n      <td>0</td>\n      <td>0</td>\n      <td>0</td>\n      <td>d41d8cd98f00b204e9800998ecf8427e</td>\n      <td>OSL</td>\n    </tr>\n  </tbody>\n</table>\n</div>",
      "text/plain": "         Date      Time TxnCode                          OfficeID Country  \\\n0  2013-01-01  20:25:57     MPT  624d8c3ac0b3a7ca03e3c167e0f48327      DE   \n1  2013-01-01  10:15:33     MPT  b0af35b31588dc4ab06d5cf2986e8e02      MD   \n2  2013-01-01  18:04:49     MPT  3561a60621de06ab1badc8ca55699ef3      US   \n3  2013-01-01  17:42:40     FXP  1864e5e8013d9414150e91d26b6a558b      SE   \n4  2013-01-01  17:48:29     MPT  1ec336348f44207d2e0027dc3a68c118      NO   \n\n  Origin Destination  RoundTrip  NbSegments Seg1Departure Seg1Arrival  \\\n0    TXL         AUH          1           2           TXL         AUH   \n1    ATH         MIL          0           1           ATH         MIL   \n2    ICT         SFO          1           2           ICT         SFO   \n3    RNB         ARN          0           1           RNB         ARN   \n4    OSL         MAD          1           2           OSL         MAD   \n\n     Seg1Date Seg1Carrier Seg1BookingCode Seg2Departure Seg2Arrival  \\\n0  2013-01-26          D2             NaN           AUH         TXL   \n1  2013-01-04         NaN             NaN           NaN         NaN   \n2  2013-08-02         NaN             NaN           SFO         ICT   \n3  2013-01-02          DU               W           NaN         NaN   \n4  2013-03-22         NaN             NaN           MAD         OSL   \n\n     Seg2Date Seg2Carrier Seg2BookingCode Seg3Departure Seg3Arrival Seg3Date  \\\n0  2013-02-02          D2             NaN           NaN         NaN      NaN   \n1         NaN         NaN             NaN           NaN         NaN      NaN   \n2  2013-08-09         NaN             NaN           NaN         NaN      NaN   \n3         NaN         NaN             NaN           NaN         NaN      NaN   \n4  2013-03-31         NaN             NaN           NaN         NaN      NaN   \n\n  Seg3Carrier Seg3BookingCode Seg4Departure Seg4Arrival Seg4Date Seg4Carrier  \\\n0         NaN             NaN           NaN         NaN      NaN         NaN   \n1         NaN             NaN           NaN         NaN      NaN         NaN   \n2         NaN             NaN           NaN         NaN      NaN         NaN   \n3         NaN             NaN           NaN         NaN      NaN         NaN   \n4         NaN             NaN           NaN         NaN      NaN         NaN   \n\n  Seg4BookingCode Seg5Departure Seg5Arrival Seg5Date Seg5Carrier  \\\n0             NaN           NaN         NaN      NaN         NaN   \n1             NaN           NaN         NaN      NaN         NaN   \n2             NaN           NaN         NaN      NaN         NaN   \n3             NaN           NaN         NaN      NaN         NaN   \n4             NaN           NaN         NaN      NaN         NaN   \n\n  Seg5BookingCode Seg6Departure Seg6Arrival Seg6Date Seg6Carrier  \\\n0             NaN           NaN         NaN      NaN         NaN   \n1             NaN           NaN         NaN      NaN         NaN   \n2             NaN           NaN         NaN      NaN         NaN   \n3             NaN           NaN         NaN      NaN         NaN   \n4             NaN           NaN         NaN      NaN         NaN   \n\n  Seg6BookingCode    From  IsPublishedForNeg  IsFromInternet  IsFromVista  \\\n0             NaN  1ASIWS                  0               0            0   \n1             NaN  1ASIWS                  0               0            0   \n2             NaN  1ASIWS                  0               0            0   \n3             NaN    1ASI                  0               0            0   \n4             NaN  1ASIWS                  0               0            0   \n\n                         TerminalID InternetOffice  \n0  d41d8cd98f00b204e9800998ecf8427e            FRA  \n1  d41d8cd98f00b204e9800998ecf8427e            KIV  \n2  d41d8cd98f00b204e9800998ecf8427e            NYC  \n3  d41d8cd98f00b204e9800998ecf8427e            STO  \n4  d41d8cd98f00b204e9800998ecf8427e            OSL  "
     },
     "execution_count": 8,
     "metadata": {},
     "output_type": "execute_result"
    }
   ],
   "source": [
    "s.head()"
   ]
  }
 ]
}