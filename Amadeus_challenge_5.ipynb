{
 "nbformat": 4,
 "nbformat_minor": 2,
 "metadata": {
  "language_info": {
   "name": "python",
   "codemirror_mode": {
    "name": "ipython",
    "version": 3
   },
   "version": "3.7.6-final"
  },
  "orig_nbformat": 2,
  "file_extension": ".py",
  "mimetype": "text/x-python",
  "name": "python",
  "npconvert_exporter": "python",
  "pygments_lexer": "ipython3",
  "version": 3,
  "kernelspec": {
   "name": "python37664bitivancvirtualenvbdf5d0ffb4774beabd481ee92fbfb678",
   "display_name": "Python 3.7.6 64-bit ('ivanc': virtualenv)"
  }
 },
 "cells": [
  {
   "cell_type": "code",
   "execution_count": 1,
   "metadata": {},
   "outputs": [],
   "source": [
    "from flask import Flask"
   ]
  },
  {
   "cell_type": "code",
   "execution_count": 3,
   "metadata": {},
   "outputs": [],
   "source": [
    "app = Flask(\"My first web service\")\n",
    "@app.route('/hello', methods=['GET'])\n",
    "def get_hello():\n",
    "    return \"Hello DS from the service!\""
   ]
  },
  {
   "cell_type": "code",
   "execution_count": 4,
   "metadata": {},
   "outputs": [
    {
     "name": "stdout",
     "output_type": "stream",
     "text": "* Serving Flask app \"My first web service\" (lazy loading)\n * Environment: production\n   WARNING: This is a development server. Do not use it in a production deployment.\n   Use a production WSGI server instead.\n * Debug mode: off\n * Running on http://127.0.0.1:5000/ (Press CTRL+C to quit)\n127.0.0.1 - - [25/Jan/2020 13:50:09] \"GET / HTTP/1.1\" 404 -\n127.0.0.1 - - [25/Jan/2020 13:50:09] \"GET /favicon.ico HTTP/1.1\" 404 -\n127.0.0.1 - - [25/Jan/2020 13:50:17] \"GET / HTTP/1.1\" 404 -\n127.0.0.1 - - [25/Jan/2020 13:50:18] \"GET /favicon.ico HTTP/1.1\" 404 -\n127.0.0.1 - - [25/Jan/2020 13:51:08] \"GET / HTTP/1.1\" 404 -\n127.0.0.1 - - [25/Jan/2020 13:51:12] \"GET / HTTP/1.1\" 404 -\n127.0.0.1 - - [25/Jan/2020 13:52:25] \"GET /hello HTTP/1.1\" 200 -\n"
    }
   ],
   "source": [
    "app.run()"
   ]
  },
  {
   "cell_type": "code",
   "execution_count": null,
   "metadata": {},
   "outputs": [],
   "source": [
    "app = Flask(\"My first web service\")\n",
    "@app.route('/hello', methods=['GET'])\n",
    "def get_hello():\n",
    "    return \"Hello DS from the service!\"\n",
    "\n",
    "@app.route('/ret_number/<int:n>', methods=['GET'])\n",
    "def get_number(n):\n",
    "    return \"I got %i\"%n"
   ]
  },
  {
   "cell_type": "code",
   "execution_count": 2,
   "metadata": {},
   "outputs": [],
   "source": [
    "app = Flask(\"My first web service\")\n",
    "@app.route('/hello', methods=['GET'])\n",
    "def get_hello():\n",
    "    return \"Hello DS from the service!\"\n",
    "\n",
    "@app.route('/ret_number/<n>', methods=['GET'])\n",
    "def get_number(n):\n",
    "    try:\n",
    "        numb = int(n)\n",
    "        if numb>0:\n",
    "            return \"I got %i\"%numb\n",
    "        else:\n",
    "            return \"Number must be > 0\"\n",
    "    except:\n",
    "        return \"Not a number\""
   ]
  },
  {
   "cell_type": "code",
   "execution_count": 3,
   "metadata": {},
   "outputs": [
    {
     "name": "stdout",
     "output_type": "stream",
     "text": "* Serving Flask app \"My first web service\" (lazy loading)\n * Environment: production\n   WARNING: This is a development server. Do not use it in a production deployment.\n   Use a production WSGI server instead.\n * Debug mode: off\n * Running on http://127.0.0.1:5000/ (Press CTRL+C to quit)\n127.0.0.1 - - [31/Jan/2020 17:17:22] \"GET /ret_number/-10 HTTP/1.1\" 200 -\n127.0.0.1 - - [31/Jan/2020 17:17:22] \"GET /favicon.ico HTTP/1.1\" 404 -\n"
    }
   ],
   "source": [
    "app.run()"
   ]
  },
  {
   "cell_type": "code",
   "execution_count": 4,
   "metadata": {},
   "outputs": [],
   "source": [
    "import json"
   ]
  },
  {
   "cell_type": "code",
   "execution_count": 5,
   "metadata": {},
   "outputs": [
    {
     "data": {
      "text/plain": "['a', 'b', 'c', 'd']"
     },
     "execution_count": 5,
     "metadata": {},
     "output_type": "execute_result"
    }
   ],
   "source": [
    "lista=list(\"abcd\")\n",
    "lista"
   ]
  },
  {
   "cell_type": "code",
   "execution_count": 6,
   "metadata": {},
   "outputs": [
    {
     "data": {
      "text/plain": "'[\"a\", \"b\", \"c\", \"d\"]'"
     },
     "execution_count": 6,
     "metadata": {},
     "output_type": "execute_result"
    }
   ],
   "source": [
    "json.dumps(lista)"
   ]
  },
  {
   "cell_type": "code",
   "execution_count": 7,
   "metadata": {},
   "outputs": [],
   "source": [
    "myDict = {'name':'John', 'Age':32, 'city':'New York'}"
   ]
  },
  {
   "cell_type": "code",
   "execution_count": 8,
   "metadata": {},
   "outputs": [
    {
     "data": {
      "text/plain": "'{\"name\": \"John\", \"Age\": 32, \"city\": \"New York\"}'"
     },
     "execution_count": 8,
     "metadata": {},
     "output_type": "execute_result"
    }
   ],
   "source": [
    "json.dumps(myDict)"
   ]
  },
  {
   "cell_type": "code",
   "execution_count": 9,
   "metadata": {},
   "outputs": [],
   "source": [
    "myDict2 = {'name':['John','Joana'], 'Age':[32, 34], 'city':['New York', 'Madrid']}"
   ]
  },
  {
   "cell_type": "code",
   "execution_count": 10,
   "metadata": {},
   "outputs": [
    {
     "data": {
      "text/plain": "'{\"name\": [\"John\", \"Joana\"], \"Age\": [32, 34], \"city\": [\"New York\", \"Madrid\"]}'"
     },
     "execution_count": 10,
     "metadata": {},
     "output_type": "execute_result"
    }
   ],
   "source": [
    "json.dumps(myDict2)"
   ]
  },
  {
   "cell_type": "code",
   "execution_count": 11,
   "metadata": {},
   "outputs": [],
   "source": [
    "import pandas as pd"
   ]
  },
  {
   "cell_type": "code",
   "execution_count": 12,
   "metadata": {},
   "outputs": [],
   "source": [
    "df= pd.DataFrame.from_dict(myDict2)"
   ]
  },
  {
   "cell_type": "code",
   "execution_count": 13,
   "metadata": {},
   "outputs": [
    {
     "data": {
      "text/html": "<div>\n<style scoped>\n    .dataframe tbody tr th:only-of-type {\n        vertical-align: middle;\n    }\n\n    .dataframe tbody tr th {\n        vertical-align: top;\n    }\n\n    .dataframe thead th {\n        text-align: right;\n    }\n</style>\n<table border=\"1\" class=\"dataframe\">\n  <thead>\n    <tr style=\"text-align: right;\">\n      <th></th>\n      <th>name</th>\n      <th>Age</th>\n      <th>city</th>\n    </tr>\n  </thead>\n  <tbody>\n    <tr>\n      <th>0</th>\n      <td>John</td>\n      <td>32</td>\n      <td>New York</td>\n    </tr>\n    <tr>\n      <th>1</th>\n      <td>Joana</td>\n      <td>34</td>\n      <td>Madrid</td>\n    </tr>\n  </tbody>\n</table>\n</div>",
      "text/plain": "    name  Age      city\n0   John   32  New York\n1  Joana   34    Madrid"
     },
     "execution_count": 13,
     "metadata": {},
     "output_type": "execute_result"
    }
   ],
   "source": [
    "df"
   ]
  },
  {
   "cell_type": "code",
   "execution_count": 14,
   "metadata": {},
   "outputs": [
    {
     "data": {
      "text/html": "<div>\n<style scoped>\n    .dataframe tbody tr th:only-of-type {\n        vertical-align: middle;\n    }\n\n    .dataframe tbody tr th {\n        vertical-align: top;\n    }\n\n    .dataframe thead th {\n        text-align: right;\n    }\n</style>\n<table border=\"1\" class=\"dataframe\">\n  <thead>\n    <tr style=\"text-align: right;\">\n      <th></th>\n      <th>0</th>\n      <th>1</th>\n    </tr>\n  </thead>\n  <tbody>\n    <tr>\n      <th>name</th>\n      <td>John</td>\n      <td>Joana</td>\n    </tr>\n    <tr>\n      <th>Age</th>\n      <td>32</td>\n      <td>34</td>\n    </tr>\n    <tr>\n      <th>city</th>\n      <td>New York</td>\n      <td>Madrid</td>\n    </tr>\n  </tbody>\n</table>\n</div>",
      "text/plain": "             0       1\nname      John   Joana\nAge         32      34\ncity  New York  Madrid"
     },
     "execution_count": 14,
     "metadata": {},
     "output_type": "execute_result"
    }
   ],
   "source": [
    "df= pd.DataFrame.from_dict(myDict2, orient='index')\n",
    "df"
   ]
  }
 ]
}