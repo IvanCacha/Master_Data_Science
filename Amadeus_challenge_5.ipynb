{
 "nbformat": 4,
 "nbformat_minor": 2,
 "metadata": {
  "language_info": {
   "name": "python",
   "codemirror_mode": {
    "name": "ipython",
    "version": 3
   },
   "version": "3.7.6-final"
  },
  "orig_nbformat": 2,
  "file_extension": ".py",
  "mimetype": "text/x-python",
  "name": "python",
  "npconvert_exporter": "python",
  "pygments_lexer": "ipython3",
  "version": 3,
  "kernelspec": {
   "name": "python37664bitivancvirtualenvbdf5d0ffb4774beabd481ee92fbfb678",
   "display_name": "Python 3.7.6 64-bit ('ivanc': virtualenv)"
  }
 },
 "cells": [
  {
   "cell_type": "code",
   "execution_count": 1,
   "metadata": {},
   "outputs": [],
   "source": [
    "from flask import Flask"
   ]
  },
  {
   "cell_type": "code",
   "execution_count": 3,
   "metadata": {},
   "outputs": [],
   "source": [
    "app = Flask(\"My first web service\")\n",
    "@app.route('/hello', methods=['GET'])\n",
    "def get_hello():\n",
    "    return \"Hello DS from the service!\""
   ]
  },
  {
   "cell_type": "code",
   "execution_count": 4,
   "metadata": {},
   "outputs": [
    {
     "name": "stdout",
     "output_type": "stream",
     "text": "* Serving Flask app \"My first web service\" (lazy loading)\n * Environment: production\n   WARNING: This is a development server. Do not use it in a production deployment.\n   Use a production WSGI server instead.\n * Debug mode: off\n * Running on http://127.0.0.1:5000/ (Press CTRL+C to quit)\n127.0.0.1 - - [25/Jan/2020 13:50:09] \"GET / HTTP/1.1\" 404 -\n127.0.0.1 - - [25/Jan/2020 13:50:09] \"GET /favicon.ico HTTP/1.1\" 404 -\n127.0.0.1 - - [25/Jan/2020 13:50:17] \"GET / HTTP/1.1\" 404 -\n127.0.0.1 - - [25/Jan/2020 13:50:18] \"GET /favicon.ico HTTP/1.1\" 404 -\n127.0.0.1 - - [25/Jan/2020 13:51:08] \"GET / HTTP/1.1\" 404 -\n127.0.0.1 - - [25/Jan/2020 13:51:12] \"GET / HTTP/1.1\" 404 -\n127.0.0.1 - - [25/Jan/2020 13:52:25] \"GET /hello HTTP/1.1\" 200 -\n"
    }
   ],
   "source": [
    "app.run()"
   ]
  },
  {
   "cell_type": "code",
   "execution_count": null,
   "metadata": {},
   "outputs": [],
   "source": [
    "app = Flask(\"My first web service\")\n",
    "@app.route('/hello', methods=['GET'])\n",
    "def get_hello():\n",
    "    return \"Hello DS from the service!\"\n",
    "\n",
    "@app.route('/ret_number/<int:n>', methods=['GET'])\n",
    "def get_number(n):\n",
    "    return \"I got %i\"%n"
   ]
  },
  {
   "cell_type": "code",
   "execution_count": 2,
   "metadata": {},
   "outputs": [],
   "source": [
    "app = Flask(\"My first web service\")\n",
    "@app.route('/hello', methods=['GET'])\n",
    "def get_hello():\n",
    "    return \"Hello DS from the service!\"\n",
    "\n",
    "@app.route('/ret_number/<n>', methods=['GET'])\n",
    "def get_number(n):\n",
    "    try:\n",
    "        numb = int(n)\n",
    "        if numb>0:\n",
    "            return \"I got %i\"%numb\n",
    "        else:\n",
    "            return \"Number must be > 0\"\n",
    "    except:\n",
    "        return \"Not a number\""
   ]
  },
  {
   "cell_type": "code",
   "execution_count": 3,
   "metadata": {},
   "outputs": [
    {
     "name": "stdout",
     "output_type": "stream",
     "text": "* Serving Flask app \"My first web service\" (lazy loading)\n * Environment: production\n   WARNING: This is a development server. Do not use it in a production deployment.\n   Use a production WSGI server instead.\n * Debug mode: off\n * Running on http://127.0.0.1:5000/ (Press CTRL+C to quit)\n127.0.0.1 - - [31/Jan/2020 17:17:22] \"GET /ret_number/-10 HTTP/1.1\" 200 -\n127.0.0.1 - - [31/Jan/2020 17:17:22] \"GET /favicon.ico HTTP/1.1\" 404 -\n"
    }
   ],
   "source": [
    "app.run()"
   ]
  },
  {
   "cell_type": "code",
   "execution_count": 4,
   "metadata": {},
   "outputs": [],
   "source": [
    "import json"
   ]
  },
  {
   "cell_type": "code",
   "execution_count": 5,
   "metadata": {},
   "outputs": [
    {
     "data": {
      "text/plain": "['a', 'b', 'c', 'd']"
     },
     "execution_count": 5,
     "metadata": {},
     "output_type": "execute_result"
    }
   ],
   "source": [
    "lista=list(\"abcd\")\n",
    "lista"
   ]
  },
  {
   "cell_type": "code",
   "execution_count": 6,
   "metadata": {},
   "outputs": [
    {
     "data": {
      "text/plain": "'[\"a\", \"b\", \"c\", \"d\"]'"
     },
     "execution_count": 6,
     "metadata": {},
     "output_type": "execute_result"
    }
   ],
   "source": [
    "json.dumps(lista)"
   ]
  },
  {
   "cell_type": "code",
   "execution_count": 7,
   "metadata": {},
   "outputs": [],
   "source": [
    "myDict = {'name':'John', 'Age':32, 'city':'New York'}"
   ]
  },
  {
   "cell_type": "code",
   "execution_count": 8,
   "metadata": {},
   "outputs": [
    {
     "data": {
      "text/plain": "'{\"name\": \"John\", \"Age\": 32, \"city\": \"New York\"}'"
     },
     "execution_count": 8,
     "metadata": {},
     "output_type": "execute_result"
    }
   ],
   "source": [
    "json.dumps(myDict)"
   ]
  },
  {
   "cell_type": "code",
   "execution_count": 9,
   "metadata": {},
   "outputs": [],
   "source": [
    "myDict2 = {'name':['John','Joana'], 'Age':[32, 34], 'city':['New York', 'Madrid']}"
   ]
  },
  {
   "cell_type": "code",
   "execution_count": 10,
   "metadata": {},
   "outputs": [
    {
     "data": {
      "text/plain": "'{\"name\": [\"John\", \"Joana\"], \"Age\": [32, 34], \"city\": [\"New York\", \"Madrid\"]}'"
     },
     "execution_count": 10,
     "metadata": {},
     "output_type": "execute_result"
    }
   ],
   "source": [
    "json.dumps(myDict2)"
   ]
  },
  {
   "cell_type": "code",
   "execution_count": 11,
   "metadata": {},
   "outputs": [],
   "source": [
    "import pandas as pd"
   ]
  },
  {
   "cell_type": "code",
   "execution_count": 12,
   "metadata": {},
   "outputs": [],
   "source": [
    "df= pd.DataFrame.from_dict(myDict2)"
   ]
  },
  {
   "cell_type": "code",
   "execution_count": 13,
   "metadata": {},
   "outputs": [
    {
     "data": {
      "text/html": "<div>\n<style scoped>\n    .dataframe tbody tr th:only-of-type {\n        vertical-align: middle;\n    }\n\n    .dataframe tbody tr th {\n        vertical-align: top;\n    }\n\n    .dataframe thead th {\n        text-align: right;\n    }\n</style>\n<table border=\"1\" class=\"dataframe\">\n  <thead>\n    <tr style=\"text-align: right;\">\n      <th></th>\n      <th>name</th>\n      <th>Age</th>\n      <th>city</th>\n    </tr>\n  </thead>\n  <tbody>\n    <tr>\n      <th>0</th>\n      <td>John</td>\n      <td>32</td>\n      <td>New York</td>\n    </tr>\n    <tr>\n      <th>1</th>\n      <td>Joana</td>\n      <td>34</td>\n      <td>Madrid</td>\n    </tr>\n  </tbody>\n</table>\n</div>",
      "text/plain": "    name  Age      city\n0   John   32  New York\n1  Joana   34    Madrid"
     },
     "execution_count": 13,
     "metadata": {},
     "output_type": "execute_result"
    }
   ],
   "source": [
    "df"
   ]
  },
  {
   "cell_type": "code",
   "execution_count": 14,
   "metadata": {},
   "outputs": [
    {
     "data": {
      "text/html": "<div>\n<style scoped>\n    .dataframe tbody tr th:only-of-type {\n        vertical-align: middle;\n    }\n\n    .dataframe tbody tr th {\n        vertical-align: top;\n    }\n\n    .dataframe thead th {\n        text-align: right;\n    }\n</style>\n<table border=\"1\" class=\"dataframe\">\n  <thead>\n    <tr style=\"text-align: right;\">\n      <th></th>\n      <th>0</th>\n      <th>1</th>\n    </tr>\n  </thead>\n  <tbody>\n    <tr>\n      <th>name</th>\n      <td>John</td>\n      <td>Joana</td>\n    </tr>\n    <tr>\n      <th>Age</th>\n      <td>32</td>\n      <td>34</td>\n    </tr>\n    <tr>\n      <th>city</th>\n      <td>New York</td>\n      <td>Madrid</td>\n    </tr>\n  </tbody>\n</table>\n</div>",
      "text/plain": "             0       1\nname      John   Joana\nAge         32      34\ncity  New York  Madrid"
     },
     "execution_count": 14,
     "metadata": {},
     "output_type": "execute_result"
    }
   ],
   "source": [
    "df= pd.DataFrame.from_dict(myDict2, orient='index')\n",
    "df"
   ]
  },
  {
   "cell_type": "code",
   "execution_count": 15,
   "metadata": {},
   "outputs": [
    {
     "data": {
      "text/plain": "'{\"name\":{\"0\":\"John\",\"1\":\"Joana\"},\"Age\":{\"0\":32,\"1\":34},\"city\":{\"0\":\"New York\",\"1\":\"Madrid\"}}'"
     },
     "execution_count": 15,
     "metadata": {},
     "output_type": "execute_result"
    }
   ],
   "source": [
    "df= pd.DataFrame.from_dict(myDict2)\n",
    "df.to_json()"
   ]
  },
  {
   "cell_type": "code",
   "execution_count": 23,
   "metadata": {},
   "outputs": [],
   "source": [
    "top_airport=pd.read_csv(\"Top10.csv\") "
   ]
  },
  {
   "cell_type": "code",
   "execution_count": 26,
   "metadata": {},
   "outputs": [
    {
     "data": {
      "text/plain": "'{\"Unnamed: 0\":{\"0\":0,\"1\":1,\"2\":2,\"3\":3,\"4\":4,\"5\":5,\"6\":6,\"7\":7,\"8\":8,\"9\":9,\"10\":10,\"11\":11,\"12\":12,\"13\":13,\"14\":14,\"15\":15,\"16\":16,\"17\":17,\"18\":18,\"19\":19,\"20\":20,\"21\":21,\"22\":22,\"23\":23,\"24\":24,\"25\":25,\"26\":26,\"27\":27,\"28\":28,\"29\":29,\"30\":30,\"31\":31,\"32\":32,\"33\":33,\"34\":34,\"35\":35,\"36\":36,\"37\":37,\"38\":38,\"39\":39,\"40\":40,\"41\":41,\"42\":42,\"43\":43,\"44\":44,\"45\":45,\"46\":46,\"47\":47,\"48\":48,\"49\":49},\"arr_port\":{\"0\":\"LHR\",\"1\":\"MCO\",\"2\":\"LAX\",\"3\":\"LAS\",\"4\":\"JFK\",\"5\":\"CDG\",\"6\":\"BKK\",\"7\":\"MIA\",\"8\":\"SFO\",\"9\":\"DXB\",\"10\":\"ORD\",\"11\":\"FCO\",\"12\":\"IST\",\"13\":\"DFW\",\"14\":\"CUN\",\"15\":\"MAD\",\"16\":\"BCN\",\"17\":\"LGA\",\"18\":\"ATL\",\"19\":\"EWR\",\"20\":\"BOS\",\"21\":\"DEL\",\"22\":\"SYD\",\"23\":\"BOM\",\"24\":\"MUC\",\"25\":\"DEN\",\"26\":\"MNL\",\"27\":\"HKG\",\"28\":\"FRA\",\"29\":\"ORY\",\"30\":\"SEA\",\"31\":\"FLL\",\"32\":\"TXL\",\"33\":\"AMS\",\"34\":\"PHX\",\"35\":\"DCA\",\"36\":\"MEX\",\"37\":\"IAH\",\"38\":\"JED\",\"39\":\"PVG\",\"40\":\"YYZ\",\"41\":\"VIE\",\"42\":\"LIS\",\"43\":\"SIN\",\"44\":\"CAI\",\"45\":\"HNL\",\"46\":\"ATH\",\"47\":\"MEL\",\"48\":\"SAN\",\"49\":\"JNB\"},\"pax\":{\"0\":88809.0,\"1\":70930.0,\"2\":70530.0,\"3\":69630.0,\"4\":66270.0,\"5\":64490.0,\"6\":59460.0,\"7\":58150.0,\"8\":58000.0,\"9\":55590.0,\"10\":53200.0,\"11\":45120.0,\"12\":43850.0,\"13\":42420.0,\"14\":42000.0,\"15\":41410.0,\"16\":41200.0,\"17\":40712.0,\"18\":39780.0,\"19\":36890.0,\"20\":35840.0,\"21\":35680.0,\"22\":33690.0,\"23\":33440.0,\"24\":33180.0,\"25\":32630.0,\"26\":32400.0,\"27\":32020.0,\"28\":31970.0,\"29\":31800.0,\"30\":31530.0,\"31\":31170.0,\"32\":30590.0,\"33\":30580.0,\"34\":29730.0,\"35\":29000.0,\"36\":28120.0,\"37\":28090.0,\"38\":27090.0,\"39\":26630.0,\"40\":26070.0,\"41\":25750.0,\"42\":25050.0,\"43\":24874.0,\"44\":24640.0,\"45\":24140.0,\"46\":24100.0,\"47\":23830.0,\"48\":23720.0,\"49\":23710.0},\"AirportName\":{\"0\":\"London Heathrow Airport\",\"1\":\"Orlando International Airport\",\"2\":\"Los Angeles International Airport\",\"3\":\"McCarran International Airport\",\"4\":\"John F. Kennedy International Airport\",\"5\":\"Paris Charles de Gaulle Airport\",\"6\":\"Suvarnabhumi Airport\",\"7\":\"Miami International Airport\",\"8\":\"San Francisco International Airport\",\"9\":\"Dubai International Airport\",\"10\":\"Chicago O\\'Hare International Airport\",\"11\":\"Leonardo da Vinci\\\\u2013Fiumicino Airport\",\"12\":\"Istanbul Airport\",\"13\":\"Dallas\\\\/Fort Worth International Airport\",\"14\":\"Canc\\\\u00fan International Airport\",\"15\":\"Adolfo Su\\\\u00e1rez Madrid\\\\u2013Barajas Airport\",\"16\":\"Barcelona\\\\u2013El Prat Airport\",\"17\":\"La Guardia Airport\",\"18\":\"Hartsfield-Jackson Atlanta International Airport\",\"19\":\"Newark Liberty International Airport\",\"20\":\"Logan International Airport\",\"21\":\"Indira Gandhi International Airport\",\"22\":\"Sydney International Airport\",\"23\":\"Chhatrapati Shivaji Maharaj International Airport\",\"24\":\"Munich International Airport\",\"25\":\"Denver International Airport\",\"26\":\"Ninoy Aquino Manila International Airport\",\"27\":\"Hong Kong International Airport\",\"28\":\"Frankfurt Airport\",\"29\":\"Paris Orly Airport\",\"30\":\"Seattle-Tacoma International Airport\",\"31\":\"Fort Lauderdale\\\\/Hollywood International Airport\",\"32\":\"Berlin Tegel Airport\",\"33\":\"Amsterdam Airport Schiphol\",\"34\":\"Phoenix Sky Harbor International Airport\",\"35\":\"Ronald Reagan Washington National Airport\",\"36\":\"Benito Ju\\\\u00e1rez International Airport\",\"37\":\"George Bush Intercontinental Airport\",\"38\":\"Jeddah King Abdul Aziz International Airport\",\"39\":\"Shanghai Pudong International Airport\",\"40\":\"Toronto Pearson International Airport\",\"41\":\"Vienna International Airport\",\"42\":\"Lisbon Humberto Delgado Airport\",\"43\":\"Singapore Changi Airport\",\"44\":\"Cairo International Airport\",\"45\":\"Daniel K. Inouye International Airport\",\"46\":\"Athens Eleftherios Venizelos International Airport\",\"47\":\"Melbourne Airport\",\"48\":\"San Diego International Airport\",\"49\":\"O.R. Tambo International Airport\"}}'"
     },
     "execution_count": 26,
     "metadata": {},
     "output_type": "execute_result"
    }
   ],
   "source": [
    "top_airport.head(50).to_json()"
   ]
  },
  {
   "cell_type": "code",
   "execution_count": 45,
   "metadata": {},
   "outputs": [],
   "source": [
    "## VERSION FINAL\n",
    "import pandas as pd\n",
    "from flask import Flask\n",
    "top_airport=pd.read_csv(\"C:\\\\Users\\\\ivanc\\\\OneDrive\\\\Documents\\\\Master Data Science\\\\Amadeus Challenge\\\\Top10.csv\") "
   ]
  },
  {
   "cell_type": "code",
   "execution_count": 46,
   "metadata": {},
   "outputs": [],
   "source": [
    "app = Flask(\"My first web service\")\n",
    "@app.route('/hello', methods=['GET'])\n",
    "def get_hello():\n",
    "    return \"Hello DS from the service!\"\n",
    "\n",
    "@app.route('/ret_number/<n>', methods=['GET'])\n",
    "def get_number(n):\n",
    "    try:\n",
    "        numb = int(n)\n",
    "        if numb > 0:\n",
    "            return top_airport.head(numb).to_json()\n",
    "        else:\n",
    "            return \"Number must be > 0\"\n",
    "    except:\n",
    "        return \"Not a number\""
   ]
  },
  {
   "cell_type": "code",
   "execution_count": 47,
   "metadata": {},
   "outputs": [
    {
     "name": "stdout",
     "output_type": "stream",
     "text": "* Serving Flask app \"My first web service\" (lazy loading)\n * Environment: production\n   WARNING: This is a development server. Do not use it in a production deployment.\n   Use a production WSGI server instead.\n * Debug mode: off\n * Running on http://127.0.0.1:5000/ (Press CTRL+C to quit)\n127.0.0.1 - - [31/Jan/2020 17:53:03] \"GET /ret_number/10 HTTP/1.1\" 200 -\n127.0.0.1 - - [31/Jan/2020 17:53:06] \"GET /ret_number/100 HTTP/1.1\" 200 -\n127.0.0.1 - - [31/Jan/2020 17:53:20] \"GET /ret_number/100 HTTP/1.1\" 200 -\n127.0.0.1 - - [31/Jan/2020 17:53:32] \"GET /ret_number/100 HTTP/1.1\" 200 -\n"
    }
   ],
   "source": [
    "app.run()"
   ]
  },
  {
   "cell_type": "code",
   "execution_count": null,
   "metadata": {},
   "outputs": [],
   "source": []
  }
 ]
}